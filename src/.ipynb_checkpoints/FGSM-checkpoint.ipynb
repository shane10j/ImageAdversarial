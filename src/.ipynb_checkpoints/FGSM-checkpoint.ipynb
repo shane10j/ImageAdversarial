{
 "cells": [
  {
   "cell_type": "code",
   "execution_count": null,
   "id": "54a7bce5",
   "metadata": {},
   "outputs": [],
   "source": [
    "import tensorflow as tf\n",
    "import numpy as np"
   ]
  }
 ],
 "metadata": {
  "language_info": {
   "name": "python"
  }
 },
 "nbformat": 4,
 "nbformat_minor": 5
}
