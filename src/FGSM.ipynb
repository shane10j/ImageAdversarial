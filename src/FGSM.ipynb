{
 "cells": [
  {
   "cell_type": "code",
   "execution_count": null,
   "id": "89d53dff-0fcf-461d-9b36-57bdc52da9fb",
   "metadata": {},
   "outputs": [
    {
     "name": "stdout",
     "output_type": "stream",
     "text": [
      "PyTorch version: 2.7.1+cu126\n",
      "CUDA available: True\n",
      "Number of GPUs: 1\n",
      "GPU 0: NVIDIA GeForce RTX 2080 Ti\n"
     ]
    }
   ],
   "source": [
    "import torch\n",
    "\n",
    "def print_torch_info():\n",
    "    print(\"PyTorch version:\", torch.__version__)\n",
    "    print(\"CUDA available:\", torch.cuda.is_available())\n",
    "    if torch.cuda.is_available():\n",
    "        print(\"Number of GPUs:\", torch.cuda.device_count())\n",
    "        for i in range(torch.cuda.device_count()):\n",
    "            print(f\"GPU {i}: {torch.cuda.get_device_name(i)}\")\n",
    "    else:\n",
    "        print(\"No CUDA-enabled GPU found.\")\n",
    "\n",
    "print_torch_info()"
   ]
  },
  {
   "cell_type": "code",
   "execution_count": 6,
   "id": "56257e86",
   "metadata": {},
   "outputs": [],
   "source": [
    "import torch\n",
    "import torch.nn as nn\n",
    "\n",
    "from keras.datasets import mnist\n",
    "import timm\n",
    "\n",
    "import numpy as np\n",
    "\n",
    "\n"
   ]
  },
  {
   "cell_type": "code",
   "execution_count": null,
   "id": "a78f4c09",
   "metadata": {},
   "outputs": [],
   "source": [
    "def load_data():\n",
    "    #Loading mnist image dataset\n",
    "    (X_train, y_train), (X_test, y_test) = mnist.load_data()\n",
    "    return X_train, y_train, X_test, y_test\n",
    "\n",
    "\n",
    "def load_resnet_34():\n",
    "    model = timm.create_model('resnet34', pretrained=True)\n",
    "    return model\n",
    "\n",
    "\n",
    "def load_vit_base_patch16_224():\n",
    "    model = timm.create_model('vit_base_patch16_224', pretrained=True)\n",
    "    return model\n",
    "\n",
    "\n",
    "def fgsm_attack(model, images, labels, epsilon):\n",
    "    \n"
   ]
  }
 ],
 "metadata": {
  "kernelspec": {
   "display_name": "Python (advEnv)",
   "language": "python",
   "name": "advenv"
  },
  "language_info": {
   "codemirror_mode": {
    "name": "ipython",
    "version": 3
   },
   "file_extension": ".py",
   "mimetype": "text/x-python",
   "name": "python",
   "nbconvert_exporter": "python",
   "pygments_lexer": "ipython3",
   "version": "3.11.13"
  }
 },
 "nbformat": 4,
 "nbformat_minor": 5
}
