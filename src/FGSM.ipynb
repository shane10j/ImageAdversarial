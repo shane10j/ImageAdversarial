{
 "cells": [
  {
   "cell_type": "code",
   "execution_count": 1,
   "id": "89d53dff-0fcf-461d-9b36-57bdc52da9fb",
   "metadata": {},
   "outputs": [
    {
     "name": "stdout",
     "output_type": "stream",
     "text": [
      "PyTorch version: 2.7.1+cu126\n",
      "CUDA available: True\n",
      "Number of GPUs: 1\n",
      "GPU 0: NVIDIA GeForce RTX 2080 Ti\n"
     ]
    }
   ],
   "source": [
    "import torch\n",
    "\n",
    "def print_torch_info():\n",
    "    print(\"PyTorch version:\", torch.__version__)\n",
    "    print(\"CUDA available:\", torch.cuda.is_available())\n",
    "    if torch.cuda.is_available():\n",
    "        print(\"Number of GPUs:\", torch.cuda.device_count())\n",
    "        for i in range(torch.cuda.device_count()):\n",
    "            print(f\"GPU {i}: {torch.cuda.get_device_name(i)}\")\n",
    "    else:\n",
    "        print(\"No CUDA-enabled GPU found.\")\n",
    "\n",
    "print_torch_info()"
   ]
  },
  {
   "cell_type": "code",
   "execution_count": 4,
   "id": "56257e86",
   "metadata": {},
   "outputs": [],
   "source": [
    "import torch\n",
    "import torch.nn as nn\n",
    "from torchvision import transforms, models, datasets\n",
    "\n",
    "from keras.datasets import mnist\n",
    "import timm\n",
    "\n",
    "import numpy as np"
   ]
  },
  {
   "cell_type": "code",
   "execution_count": 19,
   "id": "a78f4c09",
   "metadata": {},
   "outputs": [
    {
     "name": "stdout",
     "output_type": "stream",
     "text": [
      "Using Device:  cuda\n",
      "[INFO] Original Prediction: 677, True Label: 1\n"
     ]
    }
   ],
   "source": [
    "def get_device():\n",
    "    return torch.device(\"cuda\" if torch.cuda.is_available() else \"cpu\")\n",
    "\n",
    "def load_resnet_34(device):\n",
    "    model = models.resnet18(pretrained=True)\n",
    "    model.to(device)\n",
    "    model.eval()\n",
    "    return model\n",
    "\n",
    "def get_data(batch_size=1):\n",
    "    transform = transforms.Compose([\n",
    "        transforms.Resize((224, 224)),\n",
    "        transforms.Lambda(lambda img: img.convert(\"RGB\")),\n",
    "        transforms.ToTensor(),\n",
    "        transforms.Normalize(mean=[0.485, 0.456, 0.406],\n",
    "                             std=[0.229, 0.224, 0.225]),\n",
    "    ])\n",
    "    dataset = datasets.MNIST(root='./data', train=False, download=True, transform=transform)\n",
    "    loader = torch.utils.data.DataLoader(dataset, batch_size=batch_size, shuffle=True)\n",
    "    data_iter = iter(loader) #Turns the dataloader into batch iterator for data pulling\n",
    "    return next(data_iter)\n",
    "\n",
    "def load_vit_base_patch16_224():\n",
    "    model = timm.create_model('vit_base_patch16_224', pretrained=True)\n",
    "    return model\n",
    "\n",
    "def fgsm_attack(image, epsilon, data_gradient):\n",
    "    sign_gradient = data_gradient.sign()\n",
    "    perturbed = image + epsilon*sign_gradient\n",
    "    perturbed = torch.clamp(perturbed, 0, 1) #Guarantees all values are betewen 0 and 1\n",
    "    return perturbed\n",
    "\n",
    "def execute_fgsm(model, device, epsilon):\n",
    "    #Load Data\n",
    "    images, labels = get_data()\n",
    "    images, labels = images.to(device), labels.to(device)\n",
    "\n",
    "    #First Prediction\n",
    "    outputs = model(images)\n",
    "    _, init_pred = outputs.max(1)\n",
    "    print(f\"[INFO] Original Prediction: {init_pred.item()}, True Label: {labels.item()}\")\n",
    "\n",
    "\n",
    "\n",
    "if __name__ == \"__main__\":\n",
    "    device = get_device()\n",
    "    print(\"Using Device: \", device)\n",
    "    resnet_34_model = load_resnet_34(device)\n",
    "    epsilon = 0.007\n",
    "    execute_fgsm(resnet_34_model, device, epsilon)\n",
    "\n",
    "\n",
    "    \n",
    "    \n"
   ]
  }
 ],
 "metadata": {
  "kernelspec": {
   "display_name": "Python (advEnv)",
   "language": "python",
   "name": "advenv"
  },
  "language_info": {
   "codemirror_mode": {
    "name": "ipython",
    "version": 3
   },
   "file_extension": ".py",
   "mimetype": "text/x-python",
   "name": "python",
   "nbconvert_exporter": "python",
   "pygments_lexer": "ipython3",
   "version": "3.11.13"
  }
 },
 "nbformat": 4,
 "nbformat_minor": 5
}
